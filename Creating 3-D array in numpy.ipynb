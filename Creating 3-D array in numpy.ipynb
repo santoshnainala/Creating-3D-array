{
 "cells": [
  {
   "cell_type": "markdown",
   "id": "28b0161e",
   "metadata": {},
   "source": [
    "# Creating 3D Array\n",
    "3 Dimentional array is a collection of 2 Dimentional array"
   ]
  },
  {
   "cell_type": "code",
   "execution_count": 3,
   "id": "8b1e50bc",
   "metadata": {},
   "outputs": [],
   "source": [
    "import numpy as np\n",
    "a=np.array([[[1,2,3],[3,4,5]],[[6,5,4],[7,6,5]]])"
   ]
  },
  {
   "cell_type": "code",
   "execution_count": 4,
   "id": "716d1fcc",
   "metadata": {},
   "outputs": [
    {
     "data": {
      "text/plain": [
       "array([[[1, 2, 3],\n",
       "        [3, 4, 5]],\n",
       "\n",
       "       [[6, 5, 4],\n",
       "        [7, 6, 5]]])"
      ]
     },
     "execution_count": 4,
     "metadata": {},
     "output_type": "execute_result"
    }
   ],
   "source": [
    "a"
   ]
  },
  {
   "cell_type": "code",
   "execution_count": null,
   "id": "72435ecc",
   "metadata": {},
   "outputs": [],
   "source": []
  }
 ],
 "metadata": {
  "kernelspec": {
   "display_name": "Python 3",
   "language": "python",
   "name": "python3"
  },
  "language_info": {
   "codemirror_mode": {
    "name": "ipython",
    "version": 3
   },
   "file_extension": ".py",
   "mimetype": "text/x-python",
   "name": "python",
   "nbconvert_exporter": "python",
   "pygments_lexer": "ipython3",
   "version": "3.8.8"
  }
 },
 "nbformat": 4,
 "nbformat_minor": 5
}
